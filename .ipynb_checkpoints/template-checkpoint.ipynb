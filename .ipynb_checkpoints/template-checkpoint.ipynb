{
 "cells": [
  {
   "cell_type": "code",
   "execution_count": 2,
   "id": "5857c448-a1a7-46fd-9859-06f68a12e4dd",
   "metadata": {
    "tags": []
   },
   "outputs": [],
   "source": [
    "import argparse\n",
    "import os\n",
    "import numpy as np\n",
    "import math\n",
    "\n",
    "import torchvision.transforms as transforms\n",
    "from torchvision.utils import save_image\n",
    "\n",
    "from torch.utils.data import DataLoader\n",
    "from torchvision import datasets\n",
    "from torch.autograd import Variable\n",
    "\n",
    "import torch.nn as nn\n",
    "import torch.nn.functional as F\n",
    "import torch\n",
    "\n",
    "os.makedirs(\"images\", exist_ok=True)"
   ]
  },
  {
   "cell_type": "markdown",
   "id": "a65fcb13-c0e2-4046-b780-5852edf4b1c0",
   "metadata": {
    "tags": []
   },
   "source": [
    "### Parameters:"
   ]
  },
  {
   "cell_type": "code",
   "execution_count": 3,
   "id": "9d91a266-f9af-4d84-bbee-1c7ac10b4b59",
   "metadata": {
    "tags": []
   },
   "outputs": [],
   "source": [
    "class Opt:\n",
    "    n_epochs=200 #help=\"number of epochs of training\"\n",
    "    batch_size=64 #help=\"size of the batches\"\n",
    "    lr=0.0002 #help=\"adam: learning rate\")\n",
    "    b1=0.5 #help=\"adam: decay of first order momentum of gradient\")\n",
    "    b2=0.999 #help=\"adam: decay of first order momentum of gradient\")\n",
    "    n_cpu=8  #help=\"number of cpu threads to use during batch generation\")\n",
    "    latent_dim=100 #help=\"dimensionality of the latent space\")\n",
    "    img_size=28 #help=\"size of each image dimension\")\n",
    "    channels=1 #help=\"number of image channels\")\n",
    "    sample_interval=400 #help=\"interval betwen image samples\")\n",
    "\n",
    "opt = Opt()\n"
   ]
  },
  {
   "cell_type": "code",
   "execution_count": 4,
   "id": "5c4b207d-e117-4809-852f-46086dd06201",
   "metadata": {
    "tags": []
   },
   "outputs": [],
   "source": [
    "img_shape = (opt.channels, opt.img_size, opt.img_size)\n",
    "\n",
    "cuda = True if torch.cuda.is_available() else False"
   ]
  },
  {
   "cell_type": "markdown",
   "id": "67a1dde1-801e-4a38-8ab9-0f0c5c7e82a3",
   "metadata": {},
   "source": [
    "### DataLoader:"
   ]
  },
  {
   "cell_type": "code",
   "execution_count": 5,
   "id": "8bd84ea8-6e90-46ce-99ec-6f1e94995f55",
   "metadata": {
    "tags": []
   },
   "outputs": [],
   "source": [
    "# Configure data loader\n",
    "os.makedirs(\"../../data/mnist\", exist_ok=True)\n",
    "dataloader = torch.utils.data.DataLoader(\n",
    "    datasets.MNIST(\n",
    "        \"../../data/mnist\",\n",
    "        train=True,\n",
    "        download=True,\n",
    "        transform=transforms.Compose(\n",
    "            [transforms.Resize(opt.img_size), transforms.ToTensor(), transforms.Normalize([0.5], [0.5])]\n",
    "        ),\n",
    "    ),\n",
    "    batch_size=opt.batch_size,\n",
    "    shuffle=True,\n",
    ")"
   ]
  },
  {
   "cell_type": "markdown",
   "id": "1bddad26-da53-40de-b467-f69421f5db41",
   "metadata": {},
   "source": [
    "### Generator Module:"
   ]
  },
  {
   "cell_type": "code",
   "execution_count": 6,
   "id": "0ba7c41a-bac1-43c5-97d0-d8e6e1505e19",
   "metadata": {
    "tags": []
   },
   "outputs": [],
   "source": [
    "class Generator(nn.Module):\n",
    "    def __init__(self):\n",
    "        super(Generator, self).__init__()\n",
    "        \n",
    "        \n",
    "\n",
    "    def forward(self, z):\n",
    "        img = self.model(z)\n",
    "        img = img.view(img.size(0), *img_shape)\n",
    "        return img\n"
   ]
  },
  {
   "cell_type": "code",
   "execution_count": 7,
   "id": "030e561c-fa32-4c86-8554-c3e5c643cc8d",
   "metadata": {
    "tags": []
   },
   "outputs": [
    {
     "data": {
      "text/plain": [
       "Generator()"
      ]
     },
     "execution_count": 7,
     "metadata": {},
     "output_type": "execute_result"
    }
   ],
   "source": [
    "Generator()"
   ]
  },
  {
   "cell_type": "markdown",
   "id": "d5c1b100-93f2-4945-8f4a-c6d90be50815",
   "metadata": {},
   "source": [
    "### Discriminator Module:"
   ]
  },
  {
   "cell_type": "code",
   "execution_count": 8,
   "id": "039210f2-ebb8-467f-9da9-6ee6151fe580",
   "metadata": {
    "tags": []
   },
   "outputs": [],
   "source": [
    "\n",
    "class Discriminator(nn.Module):\n",
    "    def __init__(self):\n",
    "        super(Discriminator, self).__init__()\n",
    "        \n",
    "\n",
    "    def forward(self, img):\n",
    "        img_flat = img.view(img.size(0), -1)\n",
    "        validity = self.model(img_flat)\n",
    "\n",
    "        return validity\n"
   ]
  },
  {
   "cell_type": "code",
   "execution_count": 9,
   "id": "1c5ef582-13bb-47ca-b21f-88119b12a5ff",
   "metadata": {
    "tags": []
   },
   "outputs": [
    {
     "data": {
      "text/plain": [
       "Discriminator()"
      ]
     },
     "execution_count": 9,
     "metadata": {},
     "output_type": "execute_result"
    }
   ],
   "source": [
    "Discriminator()"
   ]
  },
  {
   "cell_type": "markdown",
   "id": "60be875b-7942-4af5-83a2-45c866968c99",
   "metadata": {},
   "source": [
    "### Optimizers:"
   ]
  },
  {
   "cell_type": "code",
   "execution_count": 10,
   "id": "92024aa1-c14c-483b-ab30-47ab408cb23a",
   "metadata": {
    "tags": []
   },
   "outputs": [],
   "source": [
    "#optimizer_G  \n",
    "#optimizer_D "
   ]
  },
  {
   "cell_type": "markdown",
   "id": "5f40e887-447b-4e65-9814-5fe966cfd998",
   "metadata": {},
   "source": [
    "### Loss and Training"
   ]
  },
  {
   "cell_type": "code",
   "execution_count": 13,
   "id": "ec30b021-d804-4a19-a7ed-c285985e23a5",
   "metadata": {
    "tags": []
   },
   "outputs": [],
   "source": [
    "\n",
    "# Loss function\n",
    "adversarial_loss = torch.nn.BCELoss()\n",
    "\n",
    "# Initialize generator and discriminator\n",
    "generator = Generator()\n",
    "discriminator = Discriminator()\n",
    "\n",
    "if cuda:\n",
    "    generator.cuda()\n",
    "    discriminator.cuda()\n",
    "    adversarial_loss.cuda()\n",
    "\n",
    "    "
   ]
  },
  {
   "cell_type": "code",
   "execution_count": 12,
   "id": "b6ad6d8d-0c90-4815-a4d5-5084fdf4b924",
   "metadata": {},
   "outputs": [
    {
     "ename": "NameError",
     "evalue": "name 'optimizer_G' is not defined",
     "output_type": "error",
     "traceback": [
      "\u001b[0;31m---------------------------------------------------------------------------\u001b[0m",
      "\u001b[0;31mNameError\u001b[0m                                 Traceback (most recent call last)",
      "Cell \u001b[0;32mIn[12], line 22\u001b[0m\n\u001b[1;32m     16\u001b[0m real_imgs \u001b[38;5;241m=\u001b[39m Variable(imgs\u001b[38;5;241m.\u001b[39mtype(Tensor))\n\u001b[1;32m     18\u001b[0m \u001b[38;5;66;03m# -----------------\u001b[39;00m\n\u001b[1;32m     19\u001b[0m \u001b[38;5;66;03m#  Train Generator\u001b[39;00m\n\u001b[1;32m     20\u001b[0m \u001b[38;5;66;03m# -----------------\u001b[39;00m\n\u001b[0;32m---> 22\u001b[0m \u001b[43moptimizer_G\u001b[49m\u001b[38;5;241m.\u001b[39mzero_grad()\n\u001b[1;32m     24\u001b[0m \u001b[38;5;66;03m# Sample noise as generator input\u001b[39;00m\n\u001b[1;32m     25\u001b[0m z \u001b[38;5;241m=\u001b[39m Variable(Tensor(np\u001b[38;5;241m.\u001b[39mrandom\u001b[38;5;241m.\u001b[39mnormal(\u001b[38;5;241m0\u001b[39m, \u001b[38;5;241m1\u001b[39m, (imgs\u001b[38;5;241m.\u001b[39mshape[\u001b[38;5;241m0\u001b[39m], opt\u001b[38;5;241m.\u001b[39mlatent_dim))))\n",
      "\u001b[0;31mNameError\u001b[0m: name 'optimizer_G' is not defined"
     ]
    }
   ],
   "source": [
    "#checking if there is GPU.\n",
    "Tensor = torch.cuda.FloatTensor if cuda else torch.FloatTensor\n",
    "\n",
    "# ----------\n",
    "#  Training\n",
    "# ----------\n",
    "\n",
    "for epoch in range(opt.n_epochs):\n",
    "    for i, (imgs, _) in enumerate(dataloader):\n",
    "\n",
    "        # Adversarial ground truths\n",
    "        valid = Variable(Tensor(imgs.size(0), 1).fill_(1.0), requires_grad=False)\n",
    "        fake = Variable(Tensor(imgs.size(0), 1).fill_(0.0), requires_grad=False)\n",
    "\n",
    "        # Configure input\n",
    "        real_imgs = Variable(imgs.type(Tensor))\n",
    "\n",
    "        # -----------------\n",
    "        #  Train Generator\n",
    "        # -----------------\n",
    "\n",
    "        optimizer_G.zero_grad()\n",
    "\n",
    "        # Sample noise as generator input\n",
    "        z = Variable(Tensor(np.random.normal(0, 1, (imgs.shape[0], opt.latent_dim))))\n",
    "\n",
    "        # Generate a batch of images\n",
    "        gen_imgs = generator(z)\n",
    "\n",
    "        # Loss measures generator's ability to fool the discriminator\n",
    "        g_loss = adversarial_loss(discriminator(gen_imgs), valid)\n",
    "\n",
    "        g_loss.backward()\n",
    "        optimizer_G.step()\n",
    "\n",
    "        # ---------------------\n",
    "        #  Train Discriminator\n",
    "        # ---------------------\n",
    "\n",
    "        optimizer_D.zero_grad()\n",
    "\n",
    "        # Measure discriminator's ability to classify real from generated samples\n",
    "        real_loss = adversarial_loss(discriminator(real_imgs), valid)\n",
    "        fake_loss = adversarial_loss(discriminator(gen_imgs.detach()), fake)\n",
    "        d_loss = (real_loss + fake_loss) / 2\n",
    "\n",
    "        d_loss.backward()\n",
    "        optimizer_D.step()\n",
    "\n",
    "        print(\n",
    "            \"[Epoch %d/%d] [Batch %d/%d] [D loss: %f] [G loss: %f]\"\n",
    "            % (epoch, opt.n_epochs, i, len(dataloader), d_loss.item(), g_loss.item())\n",
    "        )\n",
    "\n",
    "        batches_done = epoch * len(dataloader) + i\n",
    "        if batches_done % opt.sample_interval == 0:\n",
    "            save_image(gen_imgs.data[:25], \"images/%d.png\" % batches_done, nrow=5, normalize=True)\n"
   ]
  },
  {
   "cell_type": "code",
   "execution_count": null,
   "id": "acd5d2c8-7390-4760-9737-a2197eb9b8f6",
   "metadata": {},
   "outputs": [],
   "source": []
  }
 ],
 "metadata": {
  "kernelspec": {
   "display_name": "Python 3 (ipykernel)",
   "language": "python",
   "name": "python3"
  },
  "language_info": {
   "codemirror_mode": {
    "name": "ipython",
    "version": 3
   },
   "file_extension": ".py",
   "mimetype": "text/x-python",
   "name": "python",
   "nbconvert_exporter": "python",
   "pygments_lexer": "ipython3",
   "version": "3.10.11"
  }
 },
 "nbformat": 4,
 "nbformat_minor": 5
}
